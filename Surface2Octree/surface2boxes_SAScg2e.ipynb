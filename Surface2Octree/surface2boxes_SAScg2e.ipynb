{
 "cells": [
  {
   "cell_type": "code",
   "execution_count": 3,
   "id": "2bef1fb0",
   "metadata": {},
   "outputs": [],
   "source": [
    "import os\n",
    "dict_data={}\n",
    "with open('/home/llab/Desktop/JBLab/detection/MasifDataset/dataset/sequence_split_list.txt', mode ='r')as file:\n",
    "  csvFile = csv.reader(file)\n",
    "  for lines in csvFile:\n",
    "        dict_data[lines[0].split(\"_\")[0].lower()]=lines[0].split(\"_\")[1]"
   ]
  },
  {
   "cell_type": "code",
   "execution_count": null,
   "id": "211f9dff",
   "metadata": {},
   "outputs": [],
   "source": [
    "protein_name=[]"
   ]
  },
  {
   "cell_type": "code",
   "execution_count": null,
   "id": "c8edfa3d",
   "metadata": {},
   "outputs": [],
   "source": [
    "###################################################################\n",
    "#binding sites\n",
    "from positiveOctree import *\n",
    "from tqdm import tqdm\n",
    "ligands=[\"HEM\",\"HEC\",\"HAS\",\"HEO\",\"D97\",\"DHE\",\"SAM\",\"SAH\",\"ACO\",\"COD\",\n",
    "\"ACP\",\"ADP\",\"AMP\",\"ANP\",\"ATP\",\"CDP\",\"COA\",\"FAD\",\"FMN\",\"CDM\",\n",
    "\"GDP\",\"GMP\",\"GTP\",\"H4B\",\"NAD\",\"NAP\",\"NDP\",\"TPP\",\"UMP\",\"5GP\",\n",
    "\"COO\",\"CTP\",\"DGT\",\"EPU\",\"FUH\",\"GAP\",\"GKD\",\"GKE\",\"GTG\",\"BRU\",\n",
    "\"HMG\",\"HP7\",\"HXC\",\"JB2\",\"MCN\",\"MD1\",\"MDE\",\"MGD\",\"MJZ\",\"APR\",\n",
    "\"N01\",\"OXT\",\"PAP\",\"PPS\",\"PRX\",\"ST9\",\"T3Q\",\"TH3\",\"TLO\",\"AGS\",\n",
    "\"TXP\",\"TYD\",\"UAG\",\"UD1\",\"UDP\",\"UDX\",\"UMA\",\"UPG\",\"ADQ\",\"ADX\",\"A1S\",]\n",
    "\n",
    "octreeadd_cg=\"/home/llab/Desktop/JBLab/detection/MasifDataset/BS_octree_cg/\"\n",
    "octreeadd_v=\"/home/llab/Desktop/JBLab/detection/MasifDataset/BS_octree_v/\"\n",
    "device=\"cuda\"\n",
    "    \n",
    "for item in tqdm(range(len(protein_name))):  \n",
    "    protein=protein_name[item]  \n",
    "    pdbAddress=\"/home/llab/Desktop/JBLab/detection/MasifDataset/ent/pdb\"+protein+\".ent\"\n",
    "    chainid=dict_data[protein]\n",
    "    \n",
    "    addSurface=\"/home/llab/Desktop/JBLab/detection/MasifDataset/features/surfaceNormals/\"+protein+\".csv\"\n",
    "    addKD=\"/home/llab/Desktop/JBLab/detection/MasifDataset/features/KH/\"+protein+\".csv\"\n",
    "    addElec=\"/home/llab/Desktop/JBLab/detection/MasifDataset/features/electro_info/\"+protein+\".csv\"  \n",
    "    addCandidates=\"/home/llab/Desktop/JBLab/detection/MasifDataset/features/candidates/\"+protein+\".csv\"   \n",
    "    addAtom=\"/home/llab/Desktop/JBLab/detection/MasifDataset/features/atomtype/\"+protein+\".csv\"  \n",
    "\n",
    "    surface2postiveOctree(protein,pdbAddress,chainid,addSurface,addKD,addElec,addCandidates,addAtom,ligands,octreeadd_cg,octreeadd_v,device)"
   ]
  },
  {
   "cell_type": "code",
   "execution_count": null,
   "id": "0175e335",
   "metadata": {},
   "outputs": [
    {
     "name": "stderr",
     "output_type": "stream",
     "text": [
      "\r",
      "  0%|                                                     | 0/1 [00:00<?, ?it/s]"
     ]
    }
   ],
   "source": [
    "###################################################################\n",
    "#nonbinding site\n",
    "from negativeOctree import *\n",
    "from tqdm import tqdm\n",
    "ligands=[\"HEM\",\"HEC\",\"HAS\",\"HEO\",\"D97\",\"DHE\",\"SAM\",\"SAH\",\"ACO\",\"COD\",\n",
    "\"ACP\",\"ADP\",\"AMP\",\"ANP\",\"ATP\",\"CDP\",\"COA\",\"FAD\",\"FMN\",\"CDM\",\n",
    "\"GDP\",\"GMP\",\"GTP\",\"H4B\",\"NAD\",\"NAP\",\"NDP\",\"TPP\",\"UMP\",\"5GP\",\n",
    "\"COO\",\"CTP\",\"DGT\",\"EPU\",\"FUH\",\"GAP\",\"GKD\",\"GKE\",\"GTG\",\"BRU\",\n",
    "\"HMG\",\"HP7\",\"HXC\",\"JB2\",\"MCN\",\"MD1\",\"MDE\",\"MGD\",\"MJZ\",\"APR\",\n",
    "\"N01\",\"OXT\",\"PAP\",\"PPS\",\"PRX\",\"ST9\",\"T3Q\",\"TH3\",\"TLO\",\"AGS\",\n",
    "\"TXP\",\"TYD\",\"UAG\",\"UD1\",\"UDP\",\"UDX\",\"UMA\",\"UPG\",\"ADQ\",\"ADX\",\"A1S\",]\n",
    "numberSelectCandidates=15\n",
    "chem_geo_octree_add=\"/home/llab/Desktop/JBLab/detection/MasifDataset/nonBS_octree_cg1/\"\n",
    "vdw_octree_add=\"/home/llab/Desktop/JBLab/detection/MasifDataset/nonBS_octree_v1/\"\n",
    "device=\"cuda\"\n",
    "\n",
    "\n",
    "for item in tqdm(range(len(protein_name))):  \n",
    "    protein=protein_name[item]  \n",
    "    pdbAddress=\"/home/llab/Desktop/JBLab/detection/MasifDataset/ent/pdb\"+protein+\".ent\"\n",
    "    chainid=dict_data[protein]\n",
    "    \n",
    "    addSurface=\"/home/llab/Desktop/JBLab/detection/MasifDataset/features/surfaceNormals/\"+protein+\".csv\"\n",
    "    addKD=\"/home/llab/Desktop/JBLab/detection/MasifDataset/features/KH/\"+protein+\".csv\"\n",
    "    addElec=\"/home/llab/Desktop/JBLab/detection/MasifDataset/features/electro_info/\"+protein+\".csv\"  \n",
    "    addCandidates=\"/home/llab/Desktop/JBLab/detection/MasifDataset/features/candidates/\"+protein+\".csv\"   \n",
    "    addAtom=\"/home/llab/Desktop/JBLab/detection/MasifDataset/features/atomtype/\"+protein+\".csv\"  \n",
    "\n",
    "    surface2negativeOctree(protein,pdbAddress,chainid,numberSelectCandidates,addSurface,addKD,addElec,addCandidates,addAtom,ligands,chem_geo_octree_add,vdw_octree_add,device)"
   ]
  },
  {
   "cell_type": "code",
   "execution_count": null,
   "id": "fe6820ed",
   "metadata": {},
   "outputs": [],
   "source": []
  }
 ],
 "metadata": {
  "kernelspec": {
   "display_name": "Python 3 (ipykernel)",
   "language": "python",
   "name": "python3"
  },
  "language_info": {
   "codemirror_mode": {
    "name": "ipython",
    "version": 3
   },
   "file_extension": ".py",
   "mimetype": "text/x-python",
   "name": "python",
   "nbconvert_exporter": "python",
   "pygments_lexer": "ipython3",
   "version": "3.9.7"
  }
 },
 "nbformat": 4,
 "nbformat_minor": 5
}
